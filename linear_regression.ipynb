{
 "cells": [
  {
   "cell_type": "code",
   "execution_count": 2,
   "metadata": {},
   "outputs": [],
   "source": [
    "import numpy as np\n",
    "import pandas as pd\n",
    "import matplotlib.pyplot as plt\n",
    "from sklearn.linear_model import LinearRegression"
   ]
  },
  {
   "cell_type": "markdown",
   "metadata": {},
   "source": [
    "# Linear Regression"
   ]
  },
  {
   "cell_type": "markdown",
   "metadata": {},
   "source": [
    "## Compute model output\n",
    "<!-- Linear regression prediction in latex -->\n",
    "$$\n",
    "f_{w,b}(x) = w x + b\n",
    "$$\n"
   ]
  },
  {
   "cell_type": "code",
   "execution_count": 7,
   "metadata": {},
   "outputs": [],
   "source": [
    "def compute_model_output(x, w, b):\n",
    "    \"\"\"\n",
    "    Computes the prediction of a linear model\n",
    "    Args:\n",
    "        x: input data\n",
    "        w: weight\n",
    "        b: bias\n",
    "    Returns:\n",
    "        y: output of the linear model\n",
    "    \"\"\"\n",
    "    m = x.shape[0]\n",
    "    f_wb = np.zeros(m)\n",
    "\n",
    "    for i in range(m):\n",
    "        f_wb[i] = w * x[i] + b\n",
    "\n",
    "    return f_wb"
   ]
  },
  {
   "cell_type": "markdown",
   "metadata": {},
   "source": [
    "## Cost function\n",
    "<!-- Linear regression cost function in latex -->\n",
    "$$\n",
    "J(w,b) = \\frac{1}{2n} \\sum_{i=1}^n (f_{w,b}(x_i) - y_i)^2\n",
    "$$\n",
    "\n",
    "where \n",
    "\n",
    "* $n$ is the number of training examples\n",
    "* $x_i$ is the $i$-th input\n",
    "* $y_i$ is the $i$-th output\n",
    "* $f_{w,b}(x)$ is the model output\n"
   ]
  },
  {
   "cell_type": "code",
   "execution_count": 4,
   "metadata": {},
   "outputs": [],
   "source": [
    "def compute_cost(x, y, w, b):\n",
    "    \"\"\"\n",
    "    Computes the cost of a linear model\n",
    "    Args:\n",
    "        x: input data\n",
    "        y: output data\n",
    "        w: weight\n",
    "        b: bias\n",
    "    Returns:\n",
    "        cost: cost of the linear model\n",
    "    \"\"\"\n",
    "    m = x.shape[0]\n",
    "    f_wb = compute_model_output(x, w, b)\n",
    "    cost = 0\n",
    "\n",
    "    for i in range(m):\n",
    "        cost += (f_wb[i] - y[i]) ** 2\n",
    "\n",
    "    return cost / (2 * m)"
   ]
  },
  {
   "cell_type": "markdown",
   "metadata": {},
   "source": [
    "## Gradient descent\n",
    "<!-- Gradient descent in latex -->\n",
    "$$\n",
    "\\begin{align}\n",
    "w &\\leftarrow w - \\alpha \\frac{\\partial J}{\\partial w} \\\\\n",
    "b &\\leftarrow b - \\alpha \\frac{\\partial J}{\\partial b}\n",
    "\\end{align}\n",
    "$$\n",
    "\n",
    "where\n",
    "\n",
    "* $\\alpha$ is the learning rate\n",
    "* $\\frac{\\partial J}{\\partial w}$ is the partial derivative of the cost function with respect to $w$\n",
    "* $\\frac{\\partial J}{\\partial b}$ is the partial derivative of the cost function with respect to $b$\n"
   ]
  },
  {
   "cell_type": "code",
   "execution_count": 9,
   "metadata": {},
   "outputs": [],
   "source": [
    "def compute_gradient(x, y, w, b):\n",
    "    \"\"\"\n",
    "    Computes the gradient of a linear model\n",
    "    Args:\n",
    "        x: input data\n",
    "        y: output data\n",
    "        w: weight\n",
    "        b: bias\n",
    "    Returns:\n",
    "        dw: gradient of the weight\n",
    "        db: gradient of the bias\n",
    "    \"\"\"\n",
    "    m = x.shape[0]\n",
    "    f_wb = compute_model_output(x, w, b)\n",
    "    dw = 0\n",
    "    db = 0\n",
    "\n",
    "    for i in range(m):\n",
    "        dw += (f_wb[i] - y[i]) * x[i]\n",
    "        db += (f_wb[i] - y[i])\n",
    "\n",
    "    return dw / m, db / m"
   ]
  },
  {
   "cell_type": "code",
   "execution_count": 12,
   "metadata": {},
   "outputs": [],
   "source": [
    "def gradient_descent(x, y, w, b, learning_rate, num_iterations):\n",
    "    \"\"\"\n",
    "    Performs gradient descent\n",
    "    Args:\n",
    "        x: input data\n",
    "        y: output data\n",
    "        w: weight\n",
    "        b: bias\n",
    "        learning_rate: learning rate\n",
    "        num_iterations: number of iterations\n",
    "    Returns:\n",
    "        w: weight\n",
    "        b: bias\n",
    "    \"\"\"\n",
    "    for i in range(num_iterations):\n",
    "        dw, db = compute_gradient(x, y, w, b)\n",
    "        w -= learning_rate * dw\n",
    "        b -= learning_rate * db\n",
    "\n",
    "    return w, b"
   ]
  },
  {
   "cell_type": "code",
   "execution_count": 13,
   "metadata": {},
   "outputs": [
    {
     "name": "stdout",
     "output_type": "stream",
     "text": [
      "Learned parameters: w = 199.992851, b = 100.011568\n"
     ]
    }
   ],
   "source": [
    "# Load our data set\n",
    "x_train = np.array([1.0, 2.0])   #features\n",
    "y_train = np.array([300.0, 500.0])   #target value\n",
    "# initialize parameters\n",
    "w_init = 0\n",
    "b_init = 0\n",
    "# some gradient descent settings\n",
    "iterations = 10000\n",
    "tmp_alpha = 1.0e-2\n",
    "\n",
    "# run gradient descent to learn w and b\n",
    "w, b = gradient_descent(x_train, y_train, w_init, b_init, tmp_alpha, iterations)\n",
    "\n",
    "# print the learned parameters\n",
    "print(\"Learned parameters: w = %f, b = %f\" % (w, b))"
   ]
  }
 ],
 "metadata": {
  "kernelspec": {
   "display_name": "Python 3.8.13 ('tf2')",
   "language": "python",
   "name": "python3"
  },
  "language_info": {
   "codemirror_mode": {
    "name": "ipython",
    "version": 3
   },
   "file_extension": ".py",
   "mimetype": "text/x-python",
   "name": "python",
   "nbconvert_exporter": "python",
   "pygments_lexer": "ipython3",
   "version": "3.8.13"
  },
  "orig_nbformat": 4,
  "vscode": {
   "interpreter": {
    "hash": "2f034a896e7fade9f60dd8fa77524f67e4d12f53c9b6a937afe96cdff7d9d08a"
   }
  }
 },
 "nbformat": 4,
 "nbformat_minor": 2
}
