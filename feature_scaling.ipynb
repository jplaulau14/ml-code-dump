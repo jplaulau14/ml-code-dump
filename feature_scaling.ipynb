{
 "cells": [
  {
   "cell_type": "code",
   "execution_count": 1,
   "metadata": {},
   "outputs": [],
   "source": [
    "import numpy as np\n",
    "import pandas as pd\n",
    "from sklearn.preprocessing import StandardScaler, MinMaxScaler"
   ]
  },
  {
   "cell_type": "markdown",
   "metadata": {},
   "source": [
    "## Z-score normalization\n",
    "\n",
    "Z-score normalization is a method of feature scaling that transforms the values of each feature such that they have the properties of a standard normal distribution with $\\mu = 0$ and $\\sigma = 1$, where $\\mu$ is the mean (average) and $\\sigma$ is the standard deviation from the mean; standard scores (also called z scores) of the samples are calculated as follows:\n",
    "\n",
    "$$z = \\frac{x - \\mu}{\\sigma}$$\n",
    "\n",
    "where $x$ is the original value."
   ]
  },
  {
   "cell_type": "code",
   "execution_count": 2,
   "metadata": {},
   "outputs": [],
   "source": [
    "def zscore_scaling(X):\n",
    "    \"\"\"\n",
    "    Compute the z-score normalized column of X\n",
    "    Args:\n",
    "        X: a numpy array\n",
    "    Returns:\n",
    "        X: a numpy array with each column normalized by its z-score\n",
    "    \"\"\"\n",
    "    mu = np.mean(X, axis=0)\n",
    "    sigma = np.std(X, axis=0)\n",
    "    X = (X - mu) / sigma\n",
    "\n",
    "    return X"
   ]
  },
  {
   "cell_type": "markdown",
   "metadata": {},
   "source": [
    "## Min-Max scaling\n",
    "\n",
    "Min-max scaling is a method of feature scaling that transforms the values of each feature such that they are in the range of $[0, 1]$. The min-max scaling is also known as the **rescaling**. The min-max scaling is calculated as follows:\n",
    "\n",
    "$$x_{norm} = \\frac{x - x_{min}}{x_{max} - x_{min}}$$\n",
    "\n",
    "where $x$ is the original value, $x_{min}$ is the minimum value of the feature, and $x_{max}$ is the maximum value of the feature."
   ]
  },
  {
   "cell_type": "code",
   "execution_count": 5,
   "metadata": {},
   "outputs": [],
   "source": [
    "def min_max_scaling(X):\n",
    "    \"\"\"\n",
    "    Compute the min-max normalized column of X\n",
    "    Args:\n",
    "        X: a numpy array\n",
    "    Returns:\n",
    "        X: a numpy array with each column normalized by its min-max\n",
    "    \"\"\"\n",
    "    X_min = np.min(X, axis=0)\n",
    "    X_max = np.max(X, axis=0)\n",
    "    X = (X - X_min) / (X_max - X_min)\n",
    "\n",
    "    return X"
   ]
  },
  {
   "cell_type": "code",
   "execution_count": null,
   "metadata": {},
   "outputs": [],
   "source": []
  }
 ],
 "metadata": {
  "kernelspec": {
   "display_name": "Python 3.9.13 ('venv': venv)",
   "language": "python",
   "name": "python3"
  },
  "language_info": {
   "codemirror_mode": {
    "name": "ipython",
    "version": 3
   },
   "file_extension": ".py",
   "mimetype": "text/x-python",
   "name": "python",
   "nbconvert_exporter": "python",
   "pygments_lexer": "ipython3",
   "version": "3.9.13"
  },
  "orig_nbformat": 4,
  "vscode": {
   "interpreter": {
    "hash": "040347e6c84b3b6085a0b5c3c047031d9fd629304d0f23a2553f325e34e8794e"
   }
  }
 },
 "nbformat": 4,
 "nbformat_minor": 2
}
